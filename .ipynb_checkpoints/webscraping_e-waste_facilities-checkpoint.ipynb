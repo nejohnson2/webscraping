{
 "metadata": {
  "name": "",
  "signature": "sha256:8c76a80e817eedd56866fab2fbf25834cf9579927c87d34b7f26aa5a6364ea4c"
 },
 "nbformat": 3,
 "nbformat_minor": 0,
 "worksheets": [
  {
   "cells": [
    {
     "cell_type": "code",
     "collapsed": false,
     "input": [
      "import pandas as pd\n",
      "from lxml import html\n",
      "import requests\n",
      "import numpy as np"
     ],
     "language": "python",
     "metadata": {},
     "outputs": [],
     "prompt_number": 40
    },
    {
     "cell_type": "code",
     "collapsed": false,
     "input": [
      "url = 'http://www.dec.ny.gov/chemical/73670.html'"
     ],
     "language": "python",
     "metadata": {},
     "outputs": [],
     "prompt_number": 2
    },
    {
     "cell_type": "code",
     "collapsed": false,
     "input": [
      "page = requests.get(url)  # get the html page"
     ],
     "language": "python",
     "metadata": {},
     "outputs": [],
     "prompt_number": 3
    },
    {
     "cell_type": "code",
     "collapsed": false,
     "input": [
      "tree = html.fromstring(page.text)  # convert page from string to html tree"
     ],
     "language": "python",
     "metadata": {},
     "outputs": [],
     "prompt_number": 9
    },
    {
     "cell_type": "code",
     "collapsed": false,
     "input": [
      "# the text() at the end returns the text and not and html element\n",
      "# you could use text_content() if you have just the html element\n",
      "\n",
      "table = tree.xpath('//*[@id=\"contentContainer\"]/table/tbody/tr/td/text()')  "
     ],
     "language": "python",
     "metadata": {},
     "outputs": [],
     "prompt_number": 48
    },
    {
     "cell_type": "code",
     "collapsed": false,
     "input": [
      "# turn table into a np.array and reshape it\n",
      "data = np.array(table).reshape((len(table)/4), 4)\n",
      "\n",
      "# transform into dataframe\n",
      "data = pd.DataFrame(data, columns=['Facility','Address','Phone','Registration'])"
     ],
     "language": "python",
     "metadata": {},
     "outputs": [],
     "prompt_number": 70
    },
    {
     "cell_type": "code",
     "collapsed": false,
     "input": [
      "data.to_csv('nys_recycling_facilities.csv', index=False)"
     ],
     "language": "python",
     "metadata": {},
     "outputs": [],
     "prompt_number": 71
    }
   ],
   "metadata": {}
  }
 ]
}